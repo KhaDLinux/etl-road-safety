{
 "cells": [
  {
   "cell_type": "markdown",
   "id": "9b1d096c",
   "metadata": {},
   "source": [
    "# ETL — Accidents de la route\n",
    "\n",
    "Ce notebook montre, pas à pas, comment :\n",
    "1) se connecter à l’API publique Opendatasoft,\n",
    "2) récupérer un petit échantillon,\n",
    "3) paginer pour extraire un volume plus grand,\n",
    "4) sauvegarder les données brutes en CSV,\n",
    "5) poser les bases du nettoyage (à faire en équipe).\n",
    "\n",
    "> **Pourquoi ce format ?**  \n",
    "> Un notebook est idéal pour apprendre : on alterne **explications** (Markdown) et **code** (Python), et on voit les résultats immédiatement."
   ]
  },
  {
   "cell_type": "code",
   "execution_count": 25,
   "id": "03f38a31",
   "metadata": {},
   "outputs": [],
   "source": [
    "# Imports\n",
    "import pandas as pd\n",
    "import requests\n",
    "import time\n",
    "from pathlib import Path\n",
    "\n",
    "# Dossiers de sortie\n",
    "RAW_DIR = Path(\"../data/raw\")\n",
    "CLEAN_DIR = Path(\"../data/cleaned\")\n",
    "RAW_DIR.mkdir(parents=True, exist_ok=True)\n",
    "CLEAN_DIR.mkdir(parents=True, exist_ok=True)\n",
    "\n",
    "# Endpoint API (dataset Opendatasoft)\n",
    "BASE_URL = \"https://public.opendatasoft.com/api/explore/v2.1/catalog/datasets/accidents-corporels-de-la-circulation-en-france/records/\"\n",
    "\n",
    "# Colonnes utiles pour débuter\n",
    "FIELDS = [\n",
    "    \"numac\",                      \n",
    "    \"departement\",\n",
    "    \"codeinsee\",\n",
    "    \"lumiere\",\n",
    "    \"condition_atmospherique\",\n",
    "    \"categorie_de_route\",\n",
    "    \"type_de_collision\",\n",
    "    \"lat\"                         # on évite 'long' ici (souvent source d'erreur 400)\n",
    "]\n",
    "\n",
    "\n"
   ]
  },
  {
   "cell_type": "code",
   "execution_count": 12,
   "id": "102745cc",
   "metadata": {},
   "outputs": [
    {
     "data": {
      "text/html": [
       "<div>\n",
       "<style scoped>\n",
       "    .dataframe tbody tr th:only-of-type {\n",
       "        vertical-align: middle;\n",
       "    }\n",
       "\n",
       "    .dataframe tbody tr th {\n",
       "        vertical-align: top;\n",
       "    }\n",
       "\n",
       "    .dataframe thead th {\n",
       "        text-align: right;\n",
       "    }\n",
       "</style>\n",
       "<table border=\"1\" class=\"dataframe\">\n",
       "  <thead>\n",
       "    <tr style=\"text-align: right;\">\n",
       "      <th></th>\n",
       "      <th>numac</th>\n",
       "      <th>departement</th>\n",
       "      <th>codeinsee</th>\n",
       "      <th>lumiere</th>\n",
       "      <th>condition_atmospherique</th>\n",
       "      <th>categorie_de_route</th>\n",
       "      <th>type_de_collision</th>\n",
       "      <th>lat</th>\n",
       "    </tr>\n",
       "  </thead>\n",
       "  <tbody>\n",
       "    <tr>\n",
       "      <th>0</th>\n",
       "      <td>1</td>\n",
       "      <td>01</td>\n",
       "      <td>01053</td>\n",
       "      <td>Crépuscule ou aube</td>\n",
       "      <td>Temps couvert</td>\n",
       "      <td>Voie Communale</td>\n",
       "      <td>Deux véhicules – par le coté</td>\n",
       "      <td>None</td>\n",
       "    </tr>\n",
       "    <tr>\n",
       "      <th>1</th>\n",
       "      <td>2</td>\n",
       "      <td>01</td>\n",
       "      <td>01053</td>\n",
       "      <td>Plein jour</td>\n",
       "      <td>Normale</td>\n",
       "      <td>Route Départementale</td>\n",
       "      <td>Deux véhicules – par l’arrière</td>\n",
       "      <td>None</td>\n",
       "    </tr>\n",
       "    <tr>\n",
       "      <th>2</th>\n",
       "      <td>3</td>\n",
       "      <td>01</td>\n",
       "      <td>01248</td>\n",
       "      <td>Nuit sans éclairage public</td>\n",
       "      <td>Brouillard - fumée</td>\n",
       "      <td>Autoroute</td>\n",
       "      <td>Trois véhicules et plus - collisions multiples</td>\n",
       "      <td>None</td>\n",
       "    </tr>\n",
       "    <tr>\n",
       "      <th>3</th>\n",
       "      <td>4</td>\n",
       "      <td>01</td>\n",
       "      <td>01366</td>\n",
       "      <td>Nuit sans éclairage public</td>\n",
       "      <td>Normale</td>\n",
       "      <td>Route Départementale</td>\n",
       "      <td>Sans collision</td>\n",
       "      <td>0</td>\n",
       "    </tr>\n",
       "    <tr>\n",
       "      <th>4</th>\n",
       "      <td>5</td>\n",
       "      <td>01</td>\n",
       "      <td>01004</td>\n",
       "      <td>Plein jour</td>\n",
       "      <td>Normale</td>\n",
       "      <td>Voie Communale</td>\n",
       "      <td>Deux véhicules – par l’arrière</td>\n",
       "      <td>0</td>\n",
       "    </tr>\n",
       "  </tbody>\n",
       "</table>\n",
       "</div>"
      ],
      "text/plain": [
       "   numac departement codeinsee                      lumiere  \\\n",
       "0      1          01     01053          Crépuscule ou aube   \n",
       "1      2          01     01053                   Plein jour   \n",
       "2      3          01     01248  Nuit sans éclairage public   \n",
       "3      4          01     01366  Nuit sans éclairage public   \n",
       "4      5          01     01004                   Plein jour   \n",
       "\n",
       "  condition_atmospherique     categorie_de_route  \\\n",
       "0           Temps couvert         Voie Communale   \n",
       "1                 Normale  Route Départementale   \n",
       "2     Brouillard - fumée              Autoroute   \n",
       "3                 Normale  Route Départementale   \n",
       "4                 Normale         Voie Communale   \n",
       "\n",
       "                                 type_de_collision   lat  \n",
       "0                   Deux véhicules – par le coté  None  \n",
       "1                 Deux véhicules – par l’arrière  None  \n",
       "2  Trois véhicules et plus - collisions multiples  None  \n",
       "3                                   Sans collision     0  \n",
       "4                 Deux véhicules – par l’arrière     0  "
      ]
     },
     "execution_count": 12,
     "metadata": {},
     "output_type": "execute_result"
    }
   ],
   "source": [
    "def fetch_page(offset: int = 0, limit: int = 1000) -> list[dict]:\n",
    "    \"\"\"\n",
    "    Récupère une 'page' de résultats depuis l'API.\n",
    "    - offset : point de départ (pour la pagination)\n",
    "    - limit  : nombre de lignes à demander\n",
    "    Retour : liste de dictionnaires (lignes)\n",
    "    \"\"\"\n",
    "    params = {\n",
    "        \"limit\": limit,\n",
    "        \"offset\": offset,\n",
    "        \"select\": \", \".join(FIELDS),\n",
    "        \"order_by\": \"numac\"   \n",
    "    }\n",
    "    r = requests.get(BASE_URL, params=params, timeout=60)\n",
    "    r.raise_for_status()  \n",
    "    return r.json().get(\"results\", [])\n",
    "\n",
    "# Exemple de test\n",
    "sample = fetch_page(0, 10)\n",
    "pd.DataFrame(sample).head()"
   ]
  },
  {
   "cell_type": "code",
   "execution_count": null,
   "id": "56dce892",
   "metadata": {},
   "outputs": [
    {
     "name": "stdout",
     "output_type": "stream",
     "text": [
      "5000 lignes enregistrées\n"
     ]
    }
   ],
   "source": [
    "TARGET = 5000\n",
    "PAGE = 100\n",
    "DELAY = 0.3\n",
    "\n",
    "all_rows = []\n",
    "offset = 0\n",
    "while offset < TARGET:\n",
    "    chunk = fetch_page(offset, PAGE)\n",
    "    if not chunk:\n",
    "        break\n",
    "    all_rows.extend(chunk)\n",
    "    offset += PAGE\n",
    "    time.sleep(DELAY)\n",
    "\n",
    "# Sauvegarder un export \"brut\" pour traçabilité\n",
    "df_raw = pd.DataFrame(all_rows)\n",
    "df_raw.to_csv(RAW_DIR / \"accidents_sample_raw.csv\", index=False)\n",
    "print(f\"{len(df_raw)} lignes enregistrées\")\n"
   ]
  },
  {
   "cell_type": "code",
   "execution_count": 19,
   "id": "4a638fd1",
   "metadata": {},
   "outputs": [
    {
     "data": {
      "text/plain": [
       "(5000,\n",
       "    numac departement codeinsee                      lumiere  \\\n",
       " 0      1          01     01053          Crépuscule ou aube   \n",
       " 1      2          01     01053                   Plein jour   \n",
       " 2      3          01     01248  Nuit sans éclairage public   \n",
       " \n",
       "   condition_atmospherique     categorie_de_route  \\\n",
       " 0           Temps couvert         Voie Communale   \n",
       " 1                 Normale  Route Départementale   \n",
       " 2     Brouillard - fumée              Autoroute   \n",
       " \n",
       "                                  type_de_collision   lat  \n",
       " 0                   Deux véhicules – par le coté  None  \n",
       " 1                 Deux véhicules – par l’arrière  None  \n",
       " 2  Trois véhicules et plus - collisions multiples  None  )"
      ]
     },
     "execution_count": 19,
     "metadata": {},
     "output_type": "execute_result"
    }
   ],
   "source": [
    "# Règles minimales : garder une clé, dédoublonner\n",
    "df_clean = df_raw.copy()\n",
    "\n",
    "# 1) supprimer les lignes sans identifiant\n",
    "if \"numac\" in df_clean.columns:\n",
    "    df_clean = df_clean.dropna(subset=[\"numac\"]).drop_duplicates(subset=[\"numac\"])\n",
    "\n",
    "# 2) harmoniser des types simples\n",
    "if \"departement\" in df_clean.columns:\n",
    "    df_clean[\"departement\"] = df_clean[\"departement\"].astype(str)\n",
    "\n",
    "# 3) renommer pour cohérence future\n",
    "# df_clean = df_clean.rename(columns={\n",
    "#     \"condition_atmospherique\": \"meteo\",\n",
    "#     \"categorie_de_route\": \"type_route\"\n",
    "# })\n",
    "\n",
    "len(df_clean), df_clean.head(3)\n"
   ]
  },
  {
   "cell_type": "code",
   "execution_count": 22,
   "id": "45738a0a",
   "metadata": {},
   "outputs": [
    {
     "data": {
      "text/plain": [
       "WindowsPath('../data/cleaned/accidents_clean.csv')"
      ]
     },
     "execution_count": 22,
     "metadata": {},
     "output_type": "execute_result"
    }
   ],
   "source": [
    "from pathlib import Path\n",
    "\n",
    "CLEAN_DIR = Path(\"../data/cleaned\")   # bon dossier\n",
    "CLEAN_DIR.mkdir(parents=True, exist_ok=True)\n",
    "\n",
    "clean_csv = CLEAN_DIR / \"accidents_clean.csv\"\n",
    "df_clean.to_csv(clean_csv, index=False, encoding=\"utf-8\")\n",
    "clean_csv"
   ]
  },
  {
   "cell_type": "markdown",
   "id": "8b0a8125",
   "metadata": {},
   "source": [
    "## ✅ Prochaines étapes (après validation du modèle)\n",
    "\n",
    "- Générer `dim_time` à partir des dates (ou d’un calendrier)  \n",
    "- Créer `dim_location` (distinct de `codeinsee`, `departement`, lat/lon si dispo)  \n",
    "- Créer `dim_conditions` (distinct de `lumiere`, `meteo`, `type_route`, `type_de_collision`)  \n",
    "- Mapper les IDs (clé naturelle → clé de substitution)  \n",
    "- Remplir `fact_accident` avec les mesures (`ttue`, `tbg`, `tbl`, `tindm`, `grav`)  \n",
    "- Écrire `sql/schema.sql` et (option) charger via SQLAlchemy dans SQLite/MySQL/PostgreSQL"
   ]
  }
 ],
 "metadata": {
  "kernelspec": {
   "display_name": "base",
   "language": "python",
   "name": "python3"
  },
  "language_info": {
   "codemirror_mode": {
    "name": "ipython",
    "version": 3
   },
   "file_extension": ".py",
   "mimetype": "text/x-python",
   "name": "python",
   "nbconvert_exporter": "python",
   "pygments_lexer": "ipython3",
   "version": "3.13.5"
  }
 },
 "nbformat": 4,
 "nbformat_minor": 5
}
