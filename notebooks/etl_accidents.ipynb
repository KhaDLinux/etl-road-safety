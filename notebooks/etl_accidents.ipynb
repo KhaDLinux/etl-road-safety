{
 "cells": [
  {
   "cell_type": "markdown",
   "id": "9b1d096c",
   "metadata": {},
   "source": [
    "# ETL — Accidents de la route\n",
    "\n",
    "Ce notebook montre, pas à pas, comment :\n",
    "1) se connecter à l’API publique Opendatasoft,\n",
    "2) récupérer un petit échantillon,\n",
    "3) paginer pour extraire un volume plus grand,\n",
    "4) sauvegarder les données brutes en CSV,\n",
    "5) poser les bases du nettoyage (à faire en équipe).\n",
    "\n",
    "> **Pourquoi ce format ?**  \n",
    "> Un notebook est idéal pour apprendre : on alterne **explications** (Markdown) et **code** (Python), et on voit les résultats immédiatement."
   ]
  },
  {
   "cell_type": "code",
   "execution_count": null,
   "id": "03f38a31",
   "metadata": {},
   "outputs": [],
   "source": [
    "# Imports\n",
    "import pandas as pd\n",
    "import requests\n",
    "import time\n",
    "from pathlib import Path\n",
    "\n",
    "# Dossiers de sortie\n",
    "RAW_DIR = Path(\"../data/raw\")\n",
    "CLEAN_DIR = Path(\"../data/cleaned\")\n",
    "RAW_DIR.mkdir(parents=True, exist_ok=True)\n",
    "CLEAN_DIR.mkdir(parents=True, exist_ok=True)\n",
    "\n",
    "# Endpoint API (dataset Opendatasoft)\n",
    "BASE_URL = \"https://public.opendatasoft.com/api/explore/v2.1/catalog/datasets/accidents-corporels-de-la-circulation-millesime/records/?limit=10&offset=0\"\n",
    "# Colonnes utiles pour débuter\n",
    "FIELDS = [\n",
    "    \"numac\",\n",
    "    \"departement\",\n",
    "    \"codeinsee\",\n",
    "    \"lumiere\",\n",
    "    \"condition_atmospherique\",\n",
    "    \"categorie_de_route\",\n",
    "    \"type_de_collision\",\n",
    "    \"lat\",\n",
    "    # --- Temps : l'un des deux blocs sera présent ---\n",
    "    \"date\",                 # si le dataset fournit directement la date\n",
    "    \"an\", \"mois\", \"jour\", \"hrmn\"  # sinon, on reconstruit\n",
    "]\n",
    "\n",
    "\n"
   ]
  },
  {
   "cell_type": "code",
   "execution_count": 25,
   "id": "102745cc",
   "metadata": {},
   "outputs": [
    {
     "ename": "HTTPError",
     "evalue": "400 Client Error: Bad Request for url: https://public.opendatasoft.com/api/explore/v2.1/catalog/datasets/accidents-corporels-de-la-circulation-millesime/records/?limit=10&offset=0&limit=10&offset=0&select=numac%2C+departement%2C+codeinsee%2C+lumiere%2C+condition_atmospherique%2C+categorie_de_route%2C+type_de_collision%2C+lat%2C+date%2C+an%2C+mois%2C+jour%2C+hrmn&order_by=numac",
     "output_type": "error",
     "traceback": [
      "\u001b[1;31m---------------------------------------------------------------------------\u001b[0m",
      "\u001b[1;31mHTTPError\u001b[0m                                 Traceback (most recent call last)",
      "Cell \u001b[1;32mIn[25], line 19\u001b[0m\n\u001b[0;32m     16\u001b[0m     \u001b[38;5;28;01mreturn\u001b[39;00m r\u001b[38;5;241m.\u001b[39mjson()\u001b[38;5;241m.\u001b[39mget(\u001b[38;5;124m\"\u001b[39m\u001b[38;5;124mresults\u001b[39m\u001b[38;5;124m\"\u001b[39m, [])\n\u001b[0;32m     18\u001b[0m \u001b[38;5;66;03m# Exemple de test\u001b[39;00m\n\u001b[1;32m---> 19\u001b[0m sample \u001b[38;5;241m=\u001b[39m fetch_page(\u001b[38;5;241m0\u001b[39m, \u001b[38;5;241m10\u001b[39m)\n\u001b[0;32m     20\u001b[0m pd\u001b[38;5;241m.\u001b[39mDataFrame(sample)\u001b[38;5;241m.\u001b[39mhead()\n",
      "Cell \u001b[1;32mIn[25], line 15\u001b[0m, in \u001b[0;36mfetch_page\u001b[1;34m(offset, limit)\u001b[0m\n\u001b[0;32m      8\u001b[0m params \u001b[38;5;241m=\u001b[39m {\n\u001b[0;32m      9\u001b[0m     \u001b[38;5;124m\"\u001b[39m\u001b[38;5;124mlimit\u001b[39m\u001b[38;5;124m\"\u001b[39m: limit,\n\u001b[0;32m     10\u001b[0m     \u001b[38;5;124m\"\u001b[39m\u001b[38;5;124moffset\u001b[39m\u001b[38;5;124m\"\u001b[39m: offset,\n\u001b[0;32m     11\u001b[0m     \u001b[38;5;124m\"\u001b[39m\u001b[38;5;124mselect\u001b[39m\u001b[38;5;124m\"\u001b[39m: \u001b[38;5;124m\"\u001b[39m\u001b[38;5;124m, \u001b[39m\u001b[38;5;124m\"\u001b[39m\u001b[38;5;241m.\u001b[39mjoin(FIELDS),\n\u001b[0;32m     12\u001b[0m     \u001b[38;5;124m\"\u001b[39m\u001b[38;5;124morder_by\u001b[39m\u001b[38;5;124m\"\u001b[39m: \u001b[38;5;124m\"\u001b[39m\u001b[38;5;124mnumac\u001b[39m\u001b[38;5;124m\"\u001b[39m   \n\u001b[0;32m     13\u001b[0m }\n\u001b[0;32m     14\u001b[0m r \u001b[38;5;241m=\u001b[39m requests\u001b[38;5;241m.\u001b[39mget(BASE_URL, params\u001b[38;5;241m=\u001b[39mparams, timeout\u001b[38;5;241m=\u001b[39m\u001b[38;5;241m60\u001b[39m)\n\u001b[1;32m---> 15\u001b[0m r\u001b[38;5;241m.\u001b[39mraise_for_status()  \n\u001b[0;32m     16\u001b[0m \u001b[38;5;28;01mreturn\u001b[39;00m r\u001b[38;5;241m.\u001b[39mjson()\u001b[38;5;241m.\u001b[39mget(\u001b[38;5;124m\"\u001b[39m\u001b[38;5;124mresults\u001b[39m\u001b[38;5;124m\"\u001b[39m, [])\n",
      "File \u001b[1;32mc:\\Users\\khagr\\anaconda3\\Lib\\site-packages\\requests\\models.py:1024\u001b[0m, in \u001b[0;36mResponse.raise_for_status\u001b[1;34m(self)\u001b[0m\n\u001b[0;32m   1019\u001b[0m     http_error_msg \u001b[38;5;241m=\u001b[39m (\n\u001b[0;32m   1020\u001b[0m         \u001b[38;5;124mf\u001b[39m\u001b[38;5;124m\"\u001b[39m\u001b[38;5;132;01m{\u001b[39;00m\u001b[38;5;28mself\u001b[39m\u001b[38;5;241m.\u001b[39mstatus_code\u001b[38;5;132;01m}\u001b[39;00m\u001b[38;5;124m Server Error: \u001b[39m\u001b[38;5;132;01m{\u001b[39;00mreason\u001b[38;5;132;01m}\u001b[39;00m\u001b[38;5;124m for url: \u001b[39m\u001b[38;5;132;01m{\u001b[39;00m\u001b[38;5;28mself\u001b[39m\u001b[38;5;241m.\u001b[39murl\u001b[38;5;132;01m}\u001b[39;00m\u001b[38;5;124m\"\u001b[39m\n\u001b[0;32m   1021\u001b[0m     )\n\u001b[0;32m   1023\u001b[0m \u001b[38;5;28;01mif\u001b[39;00m http_error_msg:\n\u001b[1;32m-> 1024\u001b[0m     \u001b[38;5;28;01mraise\u001b[39;00m HTTPError(http_error_msg, response\u001b[38;5;241m=\u001b[39m\u001b[38;5;28mself\u001b[39m)\n",
      "\u001b[1;31mHTTPError\u001b[0m: 400 Client Error: Bad Request for url: https://public.opendatasoft.com/api/explore/v2.1/catalog/datasets/accidents-corporels-de-la-circulation-millesime/records/?limit=10&offset=0&limit=10&offset=0&select=numac%2C+departement%2C+codeinsee%2C+lumiere%2C+condition_atmospherique%2C+categorie_de_route%2C+type_de_collision%2C+lat%2C+date%2C+an%2C+mois%2C+jour%2C+hrmn&order_by=numac"
     ]
    }
   ],
   "source": [
    "def fetch_page(offset: int = 0, limit: int = 1000) -> list[dict]:\n",
    "    \"\"\"\n",
    "    Récupère une 'page' de résultats depuis l'API.\n",
    "    - offset : point de départ (pour la pagination)\n",
    "    - limit  : nombre de lignes à demander\n",
    "    Retour : liste de dictionnaires (lignes)\n",
    "    \"\"\"\n",
    "    params = {\n",
    "        \"limit\": limit,\n",
    "        \"offset\": offset,\n",
    "        \"select\": \", \".join(FIELDS),\n",
    "        \"order_by\": \"numac\"   \n",
    "    }\n",
    "    r = requests.get(BASE_URL, params=params, timeout=60)\n",
    "    r.raise_for_status()  \n",
    "    return r.json().get(\"results\", [])\n",
    "\n",
    "# Exemple de test\n",
    "sample = fetch_page(0, 10)\n",
    "pd.DataFrame(sample).head()"
   ]
  },
  {
   "cell_type": "code",
   "execution_count": null,
   "id": "56dce892",
   "metadata": {},
   "outputs": [
    {
     "ename": "HTTPError",
     "evalue": "400 Client Error: Bad Request for url: https://public.opendatasoft.com/api/explore/v2.1/catalog/datasets/accidents-corporels-de-la-circulation-millesime/records/?limit=100&offset=0&select=numac%2C+departement%2C+codeinsee%2C+lumiere%2C+condition_atmospherique%2C+categorie_de_route%2C+type_de_collision%2C+lat%2C+date%2C+an%2C+mois%2C+jour%2C+hrmn&order_by=numac",
     "output_type": "error",
     "traceback": [
      "\u001b[1;31m---------------------------------------------------------------------------\u001b[0m",
      "\u001b[1;31mHTTPError\u001b[0m                                 Traceback (most recent call last)",
      "Cell \u001b[1;32mIn[21], line 8\u001b[0m\n\u001b[0;32m      6\u001b[0m offset \u001b[38;5;241m=\u001b[39m \u001b[38;5;241m0\u001b[39m\n\u001b[0;32m      7\u001b[0m \u001b[38;5;28;01mwhile\u001b[39;00m offset \u001b[38;5;241m<\u001b[39m TARGET:\n\u001b[1;32m----> 8\u001b[0m     chunk \u001b[38;5;241m=\u001b[39m fetch_page(offset, PAGE)\n\u001b[0;32m      9\u001b[0m     \u001b[38;5;28;01mif\u001b[39;00m \u001b[38;5;129;01mnot\u001b[39;00m chunk:\n\u001b[0;32m     10\u001b[0m         \u001b[38;5;28;01mbreak\u001b[39;00m\n",
      "Cell \u001b[1;32mIn[20], line 15\u001b[0m, in \u001b[0;36mfetch_page\u001b[1;34m(offset, limit)\u001b[0m\n\u001b[0;32m      8\u001b[0m params \u001b[38;5;241m=\u001b[39m {\n\u001b[0;32m      9\u001b[0m     \u001b[38;5;124m\"\u001b[39m\u001b[38;5;124mlimit\u001b[39m\u001b[38;5;124m\"\u001b[39m: limit,\n\u001b[0;32m     10\u001b[0m     \u001b[38;5;124m\"\u001b[39m\u001b[38;5;124moffset\u001b[39m\u001b[38;5;124m\"\u001b[39m: offset,\n\u001b[0;32m     11\u001b[0m     \u001b[38;5;124m\"\u001b[39m\u001b[38;5;124mselect\u001b[39m\u001b[38;5;124m\"\u001b[39m: \u001b[38;5;124m\"\u001b[39m\u001b[38;5;124m, \u001b[39m\u001b[38;5;124m\"\u001b[39m\u001b[38;5;241m.\u001b[39mjoin(FIELDS),\n\u001b[0;32m     12\u001b[0m     \u001b[38;5;124m\"\u001b[39m\u001b[38;5;124morder_by\u001b[39m\u001b[38;5;124m\"\u001b[39m: \u001b[38;5;124m\"\u001b[39m\u001b[38;5;124mnumac\u001b[39m\u001b[38;5;124m\"\u001b[39m   \n\u001b[0;32m     13\u001b[0m }\n\u001b[0;32m     14\u001b[0m r \u001b[38;5;241m=\u001b[39m requests\u001b[38;5;241m.\u001b[39mget(BASE_URL, params\u001b[38;5;241m=\u001b[39mparams, timeout\u001b[38;5;241m=\u001b[39m\u001b[38;5;241m60\u001b[39m)\n\u001b[1;32m---> 15\u001b[0m r\u001b[38;5;241m.\u001b[39mraise_for_status()  \n\u001b[0;32m     16\u001b[0m \u001b[38;5;28;01mreturn\u001b[39;00m r\u001b[38;5;241m.\u001b[39mjson()\u001b[38;5;241m.\u001b[39mget(\u001b[38;5;124m\"\u001b[39m\u001b[38;5;124mresults\u001b[39m\u001b[38;5;124m\"\u001b[39m, [])\n",
      "File \u001b[1;32mc:\\Users\\khagr\\anaconda3\\Lib\\site-packages\\requests\\models.py:1024\u001b[0m, in \u001b[0;36mResponse.raise_for_status\u001b[1;34m(self)\u001b[0m\n\u001b[0;32m   1019\u001b[0m     http_error_msg \u001b[38;5;241m=\u001b[39m (\n\u001b[0;32m   1020\u001b[0m         \u001b[38;5;124mf\u001b[39m\u001b[38;5;124m\"\u001b[39m\u001b[38;5;132;01m{\u001b[39;00m\u001b[38;5;28mself\u001b[39m\u001b[38;5;241m.\u001b[39mstatus_code\u001b[38;5;132;01m}\u001b[39;00m\u001b[38;5;124m Server Error: \u001b[39m\u001b[38;5;132;01m{\u001b[39;00mreason\u001b[38;5;132;01m}\u001b[39;00m\u001b[38;5;124m for url: \u001b[39m\u001b[38;5;132;01m{\u001b[39;00m\u001b[38;5;28mself\u001b[39m\u001b[38;5;241m.\u001b[39murl\u001b[38;5;132;01m}\u001b[39;00m\u001b[38;5;124m\"\u001b[39m\n\u001b[0;32m   1021\u001b[0m     )\n\u001b[0;32m   1023\u001b[0m \u001b[38;5;28;01mif\u001b[39;00m http_error_msg:\n\u001b[1;32m-> 1024\u001b[0m     \u001b[38;5;28;01mraise\u001b[39;00m HTTPError(http_error_msg, response\u001b[38;5;241m=\u001b[39m\u001b[38;5;28mself\u001b[39m)\n",
      "\u001b[1;31mHTTPError\u001b[0m: 400 Client Error: Bad Request for url: https://public.opendatasoft.com/api/explore/v2.1/catalog/datasets/accidents-corporels-de-la-circulation-millesime/records/?limit=100&offset=0&select=numac%2C+departement%2C+codeinsee%2C+lumiere%2C+condition_atmospherique%2C+categorie_de_route%2C+type_de_collision%2C+lat%2C+date%2C+an%2C+mois%2C+jour%2C+hrmn&order_by=numac"
     ]
    }
   ],
   "source": [
    "TARGET = 8000\n",
    "PAGE = 100\n",
    "DELAY = 0.3\n",
    "\n",
    "all_rows = []\n",
    "offset = 0\n",
    "while offset < TARGET:\n",
    "    chunk = fetch_page(offset, PAGE)\n",
    "    if not chunk:\n",
    "        break\n",
    "    all_rows.extend(chunk)\n",
    "    offset += PAGE\n",
    "    time.sleep(DELAY)\n",
    "\n",
    "# Sauvegarder un export \"brut\" pour traçabilité\n",
    "df_raw = pd.DataFrame(all_rows)\n",
    "df_raw.to_csv(RAW_DIR / \"accidents_sample_raw.csv\", index=False)\n",
    "print(f\"{len(df_raw)} lignes enregistrées\")\n"
   ]
  },
  {
   "cell_type": "code",
   "execution_count": null,
   "id": "4a638fd1",
   "metadata": {},
   "outputs": [
    {
     "data": {
      "text/plain": [
       "(8000,\n",
       "    numac departement codeinsee                      lumiere  \\\n",
       " 0      1          01     01053          Crépuscule ou aube   \n",
       " 1      2          01     01053                   Plein jour   \n",
       " 2      3          01     01248  Nuit sans éclairage public   \n",
       " \n",
       "   condition_atmospherique     categorie_de_route  \\\n",
       " 0           Temps couvert         Voie Communale   \n",
       " 1                 Normale  Route Départementale   \n",
       " 2     Brouillard - fumée              Autoroute   \n",
       " \n",
       "                                  type_de_collision   lat  \n",
       " 0                   Deux véhicules – par le coté  None  \n",
       " 1                 Deux véhicules – par l’arrière  None  \n",
       " 2  Trois véhicules et plus - collisions multiples  None  )"
      ]
     },
     "execution_count": 8,
     "metadata": {},
     "output_type": "execute_result"
    }
   ],
   "source": [
    "# Règles minimales : garder une clé, dédoublonner\n",
    "df_clean = df_raw.copy()\n",
    "\n",
    "# 1) supprimer les lignes sans identifiant\n",
    "if \"numac\" in df_clean.columns:\n",
    "    df_clean = df_clean.dropna(subset=[\"numac\"]).drop_duplicates(subset=[\"numac\"])\n",
    "\n",
    "# 2) harmoniser des types simples\n",
    "if \"departement\" in df_clean.columns:\n",
    "    df_clean[\"departement\"] = df_clean[\"departement\"].astype(str)\n",
    "\n",
    "# 3) renommer pour cohérence future\n",
    "# df_clean = df_clean.rename(columns={\n",
    "#     \"condition_atmospherique\": \"meteo\",\n",
    "#     \"categorie_de_route\": \"type_route\"\n",
    "# })\n",
    "\n",
    "len(df_clean), df_clean.head(3)\n"
   ]
  },
  {
   "cell_type": "code",
   "execution_count": null,
   "id": "45738a0a",
   "metadata": {},
   "outputs": [
    {
     "data": {
      "text/plain": [
       "WindowsPath('../data/cleaned/accidents_clean.csv')"
      ]
     },
     "execution_count": 9,
     "metadata": {},
     "output_type": "execute_result"
    }
   ],
   "source": [
    "from pathlib import Path\n",
    "\n",
    "CLEAN_DIR = Path(\"../data/cleaned\")   # bon dossier\n",
    "CLEAN_DIR.mkdir(parents=True, exist_ok=True)\n",
    "\n",
    "clean_csv = CLEAN_DIR / \"accidents_clean.csv\"\n",
    "df_clean.to_csv(clean_csv, index=False, encoding=\"utf-8\")\n",
    "clean_csv"
   ]
  },
  {
   "cell_type": "markdown",
   "id": "8b0a8125",
   "metadata": {},
   "source": [
    "## ✅ Prochaines étapes (après validation du modèle)\n",
    "\n",
    "- Générer `dim_time` à partir des dates (ou d’un calendrier)  \n",
    "- Créer `dim_location` (distinct de `codeinsee`, `departement`, lat/lon si dispo)  \n",
    "- Créer `dim_conditions` (distinct de `lumiere`, `meteo`, `type_route`, `type_de_collision`)  \n",
    "- Mapper les IDs (clé naturelle → clé de substitution)  \n",
    "- Remplir `fact_accident` avec les mesures (`ttue`, `tbg`, `tbl`, `tindm`, `grav`)  \n",
    "- Écrire `sql/schema.sql` et (option) charger via SQLAlchemy dans SQLite/MySQL/PostgreSQL"
   ]
  }
 ],
 "metadata": {
  "kernelspec": {
   "display_name": "base",
   "language": "python",
   "name": "python3"
  },
  "language_info": {
   "codemirror_mode": {
    "name": "ipython",
    "version": 3
   },
   "file_extension": ".py",
   "mimetype": "text/x-python",
   "name": "python",
   "nbconvert_exporter": "python",
   "pygments_lexer": "ipython3",
   "version": "3.13.5"
  }
 },
 "nbformat": 4,
 "nbformat_minor": 5
}
